{
 "cells": [
  {
   "cell_type": "code",
   "execution_count": 1,
   "metadata": {},
   "outputs": [],
   "source": [
    "import os\n",
    "import lzma\n",
    "import pandas as pd"
   ]
  },
  {
   "cell_type": "code",
   "execution_count": 2,
   "metadata": {},
   "outputs": [],
   "source": [
    "compress_type = 'mean'\n",
    "compress_size = 100"
   ]
  },
  {
   "cell_type": "code",
   "execution_count": 3,
   "metadata": {},
   "outputs": [
    {
     "name": "stdout",
     "output_type": "stream",
     "text": [
      "All sequenceID arrays match for dataset: ATAC_JV_adipose\n",
      "All sequenceID arrays match for dataset: CTCF_TDH_ENCODE\n",
      "All sequenceID arrays match for dataset: H3K27ac-H3K4me3_TDHAM_BP\n",
      "All sequenceID arrays match for dataset: H3K27ac_TDH_some\n",
      "All sequenceID arrays match for dataset: H3K27me3_RL_cancer\n",
      "All sequenceID arrays match for dataset: H3K27me3_TDH_some\n",
      "All sequenceID arrays match for dataset: H3K36me3_AM_immune\n",
      "All sequenceID arrays match for dataset: H3K36me3_TDH_ENCODE\n",
      "All sequenceID arrays match for dataset: H3K36me3_TDH_immune\n",
      "All sequenceID arrays match for dataset: H3K36me3_TDH_other\n",
      "All sequenceID arrays match for dataset: H3K4me1_TDH_BP\n",
      "All sequenceID arrays match for dataset: H3K4me3_PGP_immune\n",
      "All sequenceID arrays match for dataset: H3K4me3_TDH_ENCODE\n",
      "All sequenceID arrays match for dataset: H3K4me3_TDH_immune\n",
      "All sequenceID arrays match for dataset: H3K4me3_TDH_other\n",
      "All sequenceID arrays match for dataset: H3K4me3_XJ_immune\n",
      "All sequenceID arrays match for dataset: H3K9me3_TDH_BP\n"
     ]
    }
   ],
   "source": [
    "datasets = [name for name in os.listdir('training_data') if os.path.isdir(os.path.join('training_data', name))]\n",
    "for dataset in datasets:\n",
    "    # Load sequence data from CSV\n",
    "    file_path = f'sequence_data/{dataset}/{compress_type}/{compress_size}/profiles.csv.xz'\n",
    "    with lzma.open(file_path, 'rt') as file:\n",
    "        signal_df = pd.read_csv(file)\n",
    "\n",
    "    # Group sequences by 'sequenceID'\n",
    "    seqs = tuple(signal_df.groupby('sequenceID'))\n",
    "\n",
    "    # Extract sequence IDs from seqs (in the same order as the grouping)\n",
    "    sequence_ids = [group[0] for group in seqs]\n",
    "\n",
    "    # Reorder target_df to match the order of sequence_ids in seqs\n",
    "    folds_df = pd.read_csv(f'training_data/{dataset}/folds.csv').set_index('sequenceID').loc[sequence_ids].reset_index()\n",
    "    target_df = pd.read_csv(f'training_data/{dataset}/target.csv').set_index('sequenceID').loc[sequence_ids].reset_index()\n",
    "\n",
    "    # Validate that sequenceIDs match across seqs, folds_df, and target_df\n",
    "    seq_ids_from_seqs = sequence_ids\n",
    "    seq_ids_from_target = target_df['sequenceID'].tolist()\n",
    "    seq_ids_from_folds = folds_df['sequenceID'].tolist()\n",
    "\n",
    "    # Check if all three lists are the same\n",
    "    if seq_ids_from_seqs == seq_ids_from_target == seq_ids_from_folds:\n",
    "        print(f\"All sequenceID arrays match for dataset: {dataset}\")\n",
    "    else:\n",
    "        # Find discrepancies\n",
    "        discrepancies_target = set(seq_ids_from_seqs) - set(seq_ids_from_target)\n",
    "        discrepancies_folds = set(seq_ids_from_seqs) - set(seq_ids_from_folds)\n",
    "\n",
    "        if discrepancies_target:\n",
    "            print(f\"Discrepancies found in target_df for dataset {dataset}: {discrepancies_target}\")\n",
    "        if discrepancies_folds:\n",
    "            print(f\"Discrepancies found in folds_df for dataset {dataset}: {discrepancies_folds}\")"
   ]
  }
 ],
 "metadata": {
  "kernelspec": {
   "display_name": "Python 3",
   "language": "python",
   "name": "python3"
  },
  "language_info": {
   "codemirror_mode": {
    "name": "ipython",
    "version": 3
   },
   "file_extension": ".py",
   "mimetype": "text/x-python",
   "name": "python",
   "nbconvert_exporter": "python",
   "pygments_lexer": "ipython3",
   "version": "3.10.11"
  }
 },
 "nbformat": 4,
 "nbformat_minor": 2
}
